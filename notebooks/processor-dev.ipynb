{
 "cells": [
  {
   "cell_type": "code",
   "execution_count": 1,
   "metadata": {},
   "outputs": [],
   "source": [
    "%load_ext autoreload\n",
    "%autoreload 2"
   ]
  },
  {
   "cell_type": "code",
   "execution_count": 8,
   "metadata": {},
   "outputs": [],
   "source": [
    "# from poesy import Poem\n",
    "from bragi.verse_parsers import PoesyParsedVerseHandler "
   ]
  },
  {
   "cell_type": "code",
   "execution_count": 9,
   "metadata": {},
   "outputs": [],
   "source": [
    "verse_handler = PoesyParsedVerseHandler()"
   ]
  },
  {
   "cell_type": "code",
   "execution_count": 10,
   "metadata": {},
   "outputs": [],
   "source": [
    "text = \"\"\"\n",
    "Happy birthday to you\n",
    "Happy birthday to you\n",
    "Happy birthday dear Mary\n",
    "Happy birthday to you\n",
    "\"\"\""
   ]
  },
  {
   "cell_type": "code",
   "execution_count": 14,
   "metadata": {},
   "outputs": [],
   "source": [
    "example = verse_handler.example(text)"
   ]
  },
  {
   "cell_type": "code",
   "execution_count": 15,
   "metadata": {},
   "outputs": [
    {
     "name": "stdout",
     "output_type": "stream",
     "text": [
      "<PREF>\n",
      "<SYLLABLES: 6><RHYME: A>\n",
      "<SYLLABLES: 6><RHYME: A>\n",
      "<SYLLABLES: 7><RHYME: ->\n",
      "<SYLLABLES: 6><RHYME: A>\n",
      "</PREF>\n",
      "\n",
      "\n",
      "Happy birthday to you\n",
      "Happy birthday to you\n",
      "Happy birthday dear Mary\n",
      "Happy birthday to you\n",
      "\n"
     ]
    }
   ],
   "source": [
    "print(example)"
   ]
  },
  {
   "cell_type": "code",
   "execution_count": 16,
   "metadata": {},
   "outputs": [
    {
     "name": "stdout",
     "output_type": "stream",
     "text": [
      "  (#s,#l)  parse                          rhyme      #feet    #syll    #parse\n",
      "---------  -----------------------------  -------  -------  -------  --------\n",
      "      1.1  HAP|py|BIRTH.DAY*|to.you       a              2        6         3\n",
      "      1.2  HAP|py|BIRTH.DAY*|to.you       a              2        6         3\n",
      "      1.3  HAP|py|BIRTH|day*|DEAR.MA*|ry  -              3        7         4\n",
      "      1.4  HAP|py|BIRTH.DAY*|to.you       a              2        6         3\n",
      "\n",
      "\n",
      "estimated schema\n",
      "----------\n",
      "meter: Iambic\n",
      "feet: Complex (2-2-3-2)\n",
      "syllables: 6\n",
      "rhyme: Couplet (aa)\n"
     ]
    }
   ],
   "source": [
    "parsed_text = verse_handler.parse_text(text)\n",
    "parsed_text.summary()"
   ]
  }
 ],
 "metadata": {
  "kernelspec": {
   "display_name": "bragi",
   "language": "python",
   "name": "bragi"
  },
  "language_info": {
   "codemirror_mode": {
    "name": "ipython",
    "version": 3
   },
   "file_extension": ".py",
   "mimetype": "text/x-python",
   "name": "python",
   "nbconvert_exporter": "python",
   "pygments_lexer": "ipython3",
   "version": "3.11.1"
  }
 },
 "nbformat": 4,
 "nbformat_minor": 2
}
