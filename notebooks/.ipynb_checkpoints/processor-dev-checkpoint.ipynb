{
 "cells": [
  {
   "cell_type": "code",
   "execution_count": 1,
   "metadata": {},
   "outputs": [],
   "source": [
    "%load_ext autoreload\n",
    "%autoreload 2"
   ]
  },
  {
   "cell_type": "code",
   "execution_count": 2,
   "metadata": {},
   "outputs": [],
   "source": [
    "from poesy import Poem"
   ]
  },
  {
   "cell_type": "code",
   "execution_count": 3,
   "metadata": {},
   "outputs": [],
   "source": [
    "text = \"\"\"\n",
    "Happy birthday to you\n",
    "Happy birthday to you\n",
    "Happy birthday dear Mary\n",
    "Happy birthday to you\n",
    "\"\"\""
   ]
  },
  {
   "cell_type": "code",
   "execution_count": 4,
   "metadata": {},
   "outputs": [],
   "source": [
    "scanned_text = Poem(text)"
   ]
  },
  {
   "cell_type": "code",
   "execution_count": 5,
   "metadata": {},
   "outputs": [
    {
     "name": "stdout",
     "output_type": "stream",
     "text": [
      "  (#s,#l)  parse                          rhyme      #feet    #syll    #parse\n",
      "---------  -----------------------------  -------  -------  -------  --------\n",
      "      1.1  HAP|py|BIRTH.DAY*|to.you       a              2        6         3\n",
      "      1.2  HAP|py|BIRTH.DAY*|to.you       a              2        6         3\n",
      "      1.3  HAP|py|BIRTH|day*|DEAR.MA*|ry  -              3        7         4\n",
      "      1.4  HAP|py|BIRTH.DAY*|to.you       a              2        6         3\n",
      "\n",
      "\n",
      "estimated schema\n",
      "----------\n",
      "meter: Iambic\n",
      "feet: Complex (2-2-3-2)\n",
      "syllables: 6\n",
      "rhyme: Couplet (aa)\n"
     ]
    }
   ],
   "source": [
    "scanned_text.summary()"
   ]
  },
  {
   "cell_type": "code",
   "execution_count": 9,
   "metadata": {},
   "outputs": [],
   "source": [
    "import poesy"
   ]
  },
  {
   "cell_type": "code",
   "execution_count": 83,
   "metadata": {},
   "outputs": [
    {
     "name": "stdout",
     "output_type": "stream",
     "text": [
      "<PREF>\n",
      "<SYLLABLES: 6><RHYME: A>\n",
      "<SYLLABLES: 6><RHYME: A>\n",
      "<SYLLABLES: 7><RHYME: ->\n",
      "<SYLLABLES: 6><RHYME: A>\n",
      "</PREF>\n"
     ]
    }
   ],
   "source": [
    "from typing import Optional\n",
    "\n",
    "class BaseParsedTextHandler():\n",
    "    \"\"\"\n",
    "    Base abstraction for classes of parsed text.\n",
    "    \"\"\"\n",
    "\n",
    "    def __init__(\n",
    "            self, \n",
    "            parsed_text,\n",
    "            new_line_chars: str = \"\\n\",\n",
    "            control_code_start_tag: str = \"<PREF>\", \n",
    "            control_code_end_tag: str = \"</PREF>\",\n",
    "            control_code_length_tag: str = \"<SYLLABLES: {length}>\",\n",
    "            control_code_end_syllable_tag: str = \"<END: {syllable}>\", \n",
    "            control_code_rhyme_tag: str = \"<RHYME: {rhyme_id}>\"\n",
    "            ):\n",
    "        \n",
    "        self.parsed_text = parsed_text\n",
    "        self.new_line_chars = new_line_chars\n",
    "        self.control_code_start_tag = control_code_start_tag \n",
    "        self.control_code_end_tag = control_code_end_tag\n",
    "        self.control_code_length_tag = control_code_length_tag \n",
    "        self.control_code_end_syllable_tag = control_code_end_syllable_tag\n",
    "        self.control_code_rhyme_tag = control_code_rhyme_tag\n",
    "        \n",
    "        self.vowels = {\"a\", \"e\", \"i\", \"o\", \"u\", \"A\", \"E\", \"I\", \"O\", \"U\"}\n",
    "\n",
    "    def syllabic_text(self, line_break_chars = \"\\n\"):\n",
    "        \"\"\"\n",
    "        Returns formatted parse of text\n",
    "        \"\"\"\n",
    "        raise NotImplementedError()\n",
    "    \n",
    "class PoesyParsedTextHandler(BaseParsedTextHandler):\n",
    "\n",
    "    def __init__(self, parsed_text):\n",
    "        super().__init__(parsed_text=parsed_text)\n",
    "\n",
    "    def _merge_end_syllables(self, split_syllables):\n",
    "        \"\"\"\n",
    "        Sometimes an end syllable won't have vowels, \n",
    "        so we need to merge with the previous syllable to ensure\n",
    "        a rhyme can be formed. E.g., \"Mary\" -> \"Ma|ry\" -> \"Mary\".\n",
    "        \"\"\"\n",
    "        end_syllable = split_syllables[-1].strip()\n",
    "\n",
    "        if self.vowels.isdisjoint(end_syllable):\n",
    "            for i in reversed(range(len(split_syllables) - 1)):\n",
    "                end_syllable = split_syllables[i].strip() + end_syllable\n",
    "                if not self.vowels.isdisjoint(end_syllable):\n",
    "                    break\n",
    "\n",
    "        return(end_syllable)\n",
    "\n",
    "    def control_code(\n",
    "            self,\n",
    "            syllabic_text = False, \n",
    "        ):\n",
    "        \n",
    "        lines = \"\"\n",
    "        # syllable_counts \n",
    "\n",
    "        control_code = self.control_code_start_tag + self.new_line_chars\n",
    "        rhyme_id_counter = {}\n",
    "\n",
    "        for line in self.parsed_text.lineld:\n",
    "\n",
    "            # Note: it would be nice to retain some capitals (e.g. proper nouns,\n",
    "            # capitals in original text) but, I'll leave that for another time.\n",
    "            syllables = line.get(\"parse\").replace('*', '').lower().split('.')\n",
    "            split_syllables = [i.split('|') for i in syllables]\n",
    "            split_syllables = [item for sublist in split_syllables for item in sublist]\n",
    " \n",
    "            end_syllable = self._merge_end_syllables(split_syllables)\n",
    "            \n",
    "            \n",
    "            # end_syllable = syllables[-1].split('|')[-1].strip()\n",
    "\n",
    "            control_code += self.control_code_length_tag.format(length=line.get(\"num_sylls\"))\n",
    "            control_code += self.control_code_rhyme_tag.format(rhyme_id=line.get(\"rhyme\").upper())\n",
    "            # Control code shouldn't constrain rhyme, it should be \n",
    "            # freely generated. \n",
    "            # control_code += self.control_code_end_syllable_tag.format(syllable=end_syllable)\n",
    "            control_code += self.new_line_chars\n",
    "            \n",
    "            if syllabic_text:\n",
    "                # Note: it would be nice to retain some capitals (e.g. proper nouns,\n",
    "                # capitals in original text) but, I'll leave that for another time.\n",
    "                lines += ' '.join(syllables) + self.new_line_chars\n",
    "            \n",
    "        control_code += self.control_code_end_tag\n",
    "        return control_code\n",
    "    \n",
    "\n",
    "        \n",
    "\n",
    "parsed_text = PoesyParsedTextHandler(scanned_text)\n",
    "control_code = parsed_text.control_code()\n",
    "print(control_code)\n",
    "\n",
    "\n"
   ]
  }
 ],
 "metadata": {
  "kernelspec": {
   "display_name": "Python 3 (ipykernel)",
   "language": "python",
   "name": "python3"
  },
  "language_info": {
   "codemirror_mode": {
    "name": "ipython",
    "version": 3
   },
   "file_extension": ".py",
   "mimetype": "text/x-python",
   "name": "python",
   "nbconvert_exporter": "python",
   "pygments_lexer": "ipython3",
   "version": "3.11.1"
  }
 },
 "nbformat": 4,
 "nbformat_minor": 2
}
